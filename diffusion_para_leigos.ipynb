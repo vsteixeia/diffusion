{
 "cells": [
  {
   "cell_type": "markdown",
   "metadata": {},
   "source": [
    "# **Bibliotecas**\n",
    "\n",
    "---\n",
    "\n",
    "Nesta seção do código são importadas todas a bibliotecas necessárias que serão utilizadas pelo resto do programa. Em python para importar uma biblioteca tipicamente é atribuido um apelido para ela que será utilizada toda vez que quisermos utilizar uma função dela. Por exempo o apelido de numpy é np, ou seja, toda vez que aparecer np no código estamos utilizando uma função da biblioteca numpy. "
   ]
  },
  {
   "cell_type": "code",
   "execution_count": null,
   "metadata": {},
   "outputs": [],
   "source": [
    "import numpy as np\n",
    "\n",
    "import matplotlib.pyplot as plt\n",
    "\n",
    "#import qmcpy as qp\n",
    "\n",
    "import time\n",
    "\n",
    "import collections.abc\n",
    "\n",
    "from multiprocessing import Pool\n",
    "\n",
    "from multiprocessing import Process\n",
    "\n",
    "from bibliotecas.argon_param import *\n",
    "\n",
    "import bibliotecas.geofunc2 as g2\n",
    "\n",
    "import bibliotecas.differential_equations as diff\n",
    "\n",
    "import pandas as pd"
   ]
  },
  {
   "cell_type": "markdown",
   "metadata": {},
   "source": [
    "# **Pontos de Emissão**\n",
    "\n",
    "---\n",
    "\n",
    "Nesta seção são declaradas inicialmente as variaveis que definem as coordenadas tanto do ponto de emissão(x0,y0,z0), quanto as coordenadas do centro do sensor ARAPUCA (dev_x1, dev_y1, dev_z1). Nesta seção as variaveis recebem um valor inicial, porém esses valores podem mudar em outras seções."
   ]
  },
  {
   "cell_type": "code",
   "execution_count": null,
   "metadata": {},
   "outputs": [],
   "source": [
    "# point of emission\n",
    "\n",
    "x0 = 80\n",
    "\n",
    "y0 = Ly/2+ed\n",
    "\n",
    "z0 = Lz/2+ed\n",
    "\n",
    "# detector device center position\n",
    "\n",
    "dev_x1 = ed\n",
    "\n",
    "dev_y1 = Ly/2+ed\n",
    "\n",
    "dev_z1 = Lz/2+ed"
   ]
  },
  {
   "cell_type": "markdown",
   "metadata": {},
   "source": [
    "# **Imagens da difusão**\n",
    "\n",
    "---\n",
    "\n",
    "Essa sessão quando rodada irá gerar as imagens da difusão dos fótons no argonio liquido. Todas as imagens geradas vão para a pasta Imagens."
   ]
  },
  {
   "cell_type": "code",
   "execution_count": null,
   "metadata": {},
   "outputs": [],
   "source": [
    "from pylab import meshgrid,cm,imshow,contour,clabel,colorbar,axis,title,show\n",
    "\n",
    "x0 = Lx/4.\n",
    "y0 = 20.\n",
    "z0 = Lz/2.\n",
    "\n",
    "x = np.arange(0.0,Lx,5)\n",
    "y = np.arange(0.0,Ly,5)\n",
    "X,Y = meshgrid(x, y)\n",
    "\n",
    "for i in range(10):\n",
    "    inst = 0.1+2*i\n",
    "    \n",
    "    \n",
    " # grid of point\n",
    "    Z = diff.draw2d(inst, x, y, z0, x0, y0, z0) # evaluation of the function on the grid\n",
    "    if i==0:\n",
    "        z_max = np.max(Z)\n",
    "    im = imshow(Z, extent=[0,x.max(),0,y.max()], cmap=plt.colormaps['viridis']) # drawing the function\n",
    "    # adding the Contour lines with labels\n",
    "    #cset = contour(Z,arange(-1,1.5,0.2),linewidths=2,cmap=cm.Set2)\n",
    "    #clabel(cset,inline=True,fmt='%1.1f',fontsize=10)\n",
    "    \n",
    "    colorbar(im) # adding the colobar on the right\n",
    "    # latex fashion title\n",
    "    #title('$z=(1-x^2+y^3) e^{-(x^2+y^2)/2}$')\n",
    "    plt.savefig('Imagens/fig'+str(i)+'.png') #Salva na pasta imagens\n",
    "    plt.clf()\n",
    "    print(i)\n",
    "\n"
   ]
  },
  {
   "cell_type": "markdown",
   "metadata": {},
   "source": [
    "# **Histograma** \n",
    "\n",
    "---\n",
    "\n",
    "Esse código irá gerar o histograma da quantidade de fotons coletados pelo ARAPUCA ao longo do tempo que é dado em nanossegundos. Aqui para obter diferentes resultados será necessário mudar as coordenadas (x0,y0,z0) do ponto de emissão, de acordo com os arquivos .csv na pasta \"Tabelas de emissao\". No total serão 5 pontos de emissão diferentes (A,B,C,D,E). Para cada um desses pontos será necessário manter y0 e z0 constantes, e aumentar a distancia x0 em 100cm indo de 1cm até 700cm, totalizando 8 histogramas para cada um dos 5 pontos de emissão. (ver a imagem ilustração_pontos_emissão.png)\n",
    "\n",
    "Obs:. Para salvar os histogramas, salve na pasta correspondente ao ponto de emissão da seguinte forma: ponto(distancia_x). Ex: A(100cm), A(200cm) etc."
   ]
  },
  {
   "cell_type": "code",
   "execution_count": null,
   "metadata": {},
   "outputs": [],
   "source": [
    "#coordenadas do ponto de emissão\n",
    "x0 = v*4\n",
    "y0 = Ly/2\n",
    "z0 = Lz/2\n",
    "\n",
    "start_time = time.time()\n",
    "t_max = 25\n",
    "calc_flux = diff.flux_detector(t_max, 0, y0, z0, x0, y0, z0, 1, 0, 0) #flux_detector(t_max, dev_x1, dev_y1, dev_z1, x0, y0, z0, 1, 0, 0)\n",
    "t = np.linspace(0,t_max, len(calc_flux))\n",
    "plt.plot(t, calc_flux)\n",
    "plt.yscale('log')\n",
    "print('running time = '+ f'{time.time()-start_time}')"
   ]
  },
  {
   "cell_type": "markdown",
   "metadata": {},
   "source": [
    "# **Gráfico Exponencial**\n",
    "\n",
    "---\n",
    "Este código quando rodado irá gerar o gráfico do numero total de fótons coletados pela ARAPUCA pela distância do ponto de emissão."
   ]
  },
  {
   "cell_type": "code",
   "execution_count": null,
   "metadata": {},
   "outputs": [],
   "source": [
    "#Extrai os pontos de emissão da tabela \n",
    "data_points = pd.read_csv('Tabelas de emissao/A.csv', sep=\";\") \n",
    "emission = []\n",
    "\n",
    "#Passa as coordenadas x,y,z dos pontos de emissão para a matriz emission\n",
    "for index, row in data_points.iterrows():\n",
    "    xe = row['x']\n",
    "    ye = row['y']\n",
    "    ze = row['z']\n",
    "    emission.append([xe,ye,ze])\n",
    "    \n",
    "total_photons = np.zeros(len(emission))\n",
    "t_max = 50\n",
    "\n",
    "#Calcula o numero total de fotons para o ponto de emissão especificado\n",
    "def run_points(xxx,yyy,zzz):\n",
    "    global x0\n",
    "    x0 = xxx\n",
    "    global y0\n",
    "    y0 = yyy\n",
    "    global z0\n",
    "    z0 = zzz\n",
    "    \n",
    "    return diff.total_flow_detector(t_max, dev_x1, dev_y1, dev_z1, x0, y0, z0, 1, 0, 0)\n",
    "\n",
    "#Armazena o numero total de fotons na lista total_photons usando multiprocessamento\n",
    "def pool_handler():\n",
    "    p = Pool()\n",
    "    global total_photons\n",
    "    total_photons = p.starmap(run_points, emission)\n",
    "    p.close()\n",
    "    p.join()\n",
    "    \n",
    "\n",
    "start_time = time.time()\n",
    "\n",
    "if __name__ == '__main__':\n",
    "    pool_handler()\n",
    "    \n",
    "print('running time = '+ f'{time.time()-start_time}')\n",
    "\n",
    "#Seleciona apenas a coluna x ta tabela de emissão para fazer o gráfico\n",
    "distx = [point[0] for point in emission]\n",
    "\n",
    "#Plota e mostra o gráfico\n",
    "plt.plot(distx, total_photons)\n",
    "plt.show()"
   ]
  },
  {
   "cell_type": "markdown",
   "metadata": {},
   "source": []
  }
 ],
 "metadata": {
  "kernelspec": {
   "display_name": "Python 3",
   "language": "python",
   "name": "python3"
  },
  "language_info": {
   "codemirror_mode": {
    "name": "ipython",
    "version": 3
   },
   "file_extension": ".py",
   "mimetype": "text/x-python",
   "name": "python",
   "nbconvert_exporter": "python",
   "pygments_lexer": "ipython3",
   "version": "3.10.12"
  }
 },
 "nbformat": 4,
 "nbformat_minor": 2
}
